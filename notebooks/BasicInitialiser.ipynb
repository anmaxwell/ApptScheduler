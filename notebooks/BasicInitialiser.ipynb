{
 "cells": [
  {
   "cell_type": "code",
   "execution_count": null,
   "metadata": {},
   "outputs": [],
   "source": [
    "def __init__(self):\n",
    "    \n",
    "    #set action space\n",
    "    self.action_space = gym.spaces.Discrete(2)\n",
    "\n",
    "    #set observation space\n",
    "\n",
    "    \n",
    "\n",
    "def __init__(self):\n",
    "\n",
    "    # Define a 2-D observation space\n",
    "    self.observation_shape = (600, 800, 3)\n",
    "    self.observation_space = spaces.Box(low = np.zeros(self.observation_shape), \n",
    "                                        high = np.ones(self.observation_shape),\n",
    "                                        dtype = np.float16)\n",
    "\n",
    "def __init__(self, df):\n",
    "\n",
    "    super(StockTradingEnv, self).__init__()\n",
    "    self.df = df\n",
    "    self.reward_range = (0, MAX_ACCOUNT_BALANCE) \n",
    "    # Actions of the format Buy x%, Sell x%, Hold, etc.\n",
    "    self.action_space = spaces.Box(\n",
    "      low=np.array([0, 0]), high=np.array([3, 1]), dtype=np.float16)\n",
    "    # Prices contains the OHCL values for the last five prices\n",
    "    self.observation_space = spaces.Box(\n",
    "      low=0, high=1, shape=(6, 6), dtype=np.float16)\n",
    "\n",
    "def __init__(self):\n",
    "    self.action_space = gym.spaces.Discrete(5)\n",
    "    self.observation_space = gym.spaces.Discrete(2)"
   ]
  },
  {
   "cell_type": "code",
   "execution_count": null,
   "metadata": {},
   "outputs": [],
   "source": [
    " class CustomEnv(gym.Env):\n",
    "  \"\"\"Custom Environment that follows gym interface\"\"\"\n",
    "  metadata = {'render.modes': ['human']}\n",
    "\n",
    "      def __init__(self, arg1, arg2, ...):\n",
    "        super(CustomEnv, self).__init__()\n",
    "\n",
    "        self.action_space = \n",
    "        self.observation_space = \n",
    "\n",
    "      def step(self, action):\n",
    "        ...\n",
    "      def reset(self):\n",
    "        ...\n",
    "      def render(self, mode='human', close=False):\n"
   ]
  }
 ],
 "metadata": {
  "kernelspec": {
   "display_name": "Python 3",
   "language": "python",
   "name": "python3"
  },
  "language_info": {
   "codemirror_mode": {
    "name": "ipython",
    "version": 3
   },
   "file_extension": ".py",
   "mimetype": "text/x-python",
   "name": "python",
   "nbconvert_exporter": "python",
   "pygments_lexer": "ipython3",
   "version": "3.7.4"
  }
 },
 "nbformat": 4,
 "nbformat_minor": 2
}

{
 "cells": [
  {
   "cell_type": "code",
   "execution_count": null,
   "metadata": {},
   "outputs": [],
   "source": [
    "def __init__(self, num_slots, num_gps, num_pre_booked):\n",
    "\n",
    "    #set parameters\n",
    "    self.num_gps = num_gps\n",
    "    self.num_slots = num_slots\n",
    "    self.num_pre_booked = num_pre_booked\n",
    "\n",
    "    #set action space\n",
    "    self.action_space = gym.spaces.Discrete(2)\n",
    "\n",
    "    #set observation space\n",
    "    self.observation_space = gym.spaces.Box(low=0, high=1, shape=(num_slots, num_gps), dtype=np.int32)\n",
    "\n",
    "    self.reset()\n",
    "    "
   ]
  },
  {
   "cell_type": "code",
   "execution_count": null,
   "metadata": {},
   "outputs": [],
   "source": [
    " class CustomEnv(gym.Env):\n",
    "  \"\"\"Custom Environment that follows gym interface\"\"\"\n",
    "  metadata = {'render.modes': ['human']}\n",
    "\n",
    "      def __init__(self, arg1, arg2, ...):\n",
    "        super(CustomEnv, self).__init__()\n",
    "\n",
    "        self.action_space = \n",
    "        self.observation_space = \n",
    "\n",
    "      def step(self, action):\n",
    "        ...\n",
    "      def reset(self):\n",
    "        ...\n",
    "      def render(self, mode='human', close=False):\n"
   ]
  }
 ],
 "metadata": {
  "kernelspec": {
   "display_name": "Python 3",
   "language": "python",
   "name": "python3"
  },
  "language_info": {
   "codemirror_mode": {
    "name": "ipython",
    "version": 3
   },
   "file_extension": ".py",
   "mimetype": "text/x-python",
   "name": "python",
   "nbconvert_exporter": "python",
   "pygments_lexer": "ipython3",
   "version": "3.7.4"
  }
 },
 "nbformat": 4,
 "nbformat_minor": 2
}

{
 "cells": [
  {
   "cell_type": "code",
   "execution_count": null,
   "metadata": {},
   "outputs": [],
   "source": [
    "import gym\n",
    "import numpy as np\n",
    "import pandas as pd"
   ]
  },
  {
   "cell_type": "code",
   "execution_count": null,
   "metadata": {},
   "outputs": [],
   "source": [
    "#set parameters\n",
    "num_gps = 7\n",
    "num_slots = 12\n",
    "num_pre_booked = 12"
   ]
  },
  {
   "cell_type": "code",
   "execution_count": null,
   "metadata": {},
   "outputs": [],
   "source": [
    "class Scheduler(Env):\n",
    "    \n",
    "    metadata = {'render.modes': ['human']}\n",
    "    \n",
    "    def __init__(self, num_slots, num_gps, num_pre_booked):\n",
    "        \n",
    "        #set parameters\n",
    "        self.num_gps = num_gps\n",
    "        self.num_slots = num_slots\n",
    "        self.num_pre_booked = num_pre_booked\n",
    "\n",
    "        #set action space\n",
    "        self.action_space = gym.spaces.Discrete(2)\n",
    "\n",
    "        #set observation space\n",
    "        self.observation_space = gym.spaces.Box(low=0, high=1, shape=(num_slots, num_gps), dtype=np.int32)        \n",
    "\n",
    "        \n",
    "    #creates daily diary for each gp and randomly populates prebooked appointments\n",
    "    def reset(self):\n",
    "        \n",
    "        #creates zero filled dataframe with row per time slot and column per gp\n",
    "        self.df = pd.DataFrame(np.zeros((self.num_slots, self.num_gps)))\n",
    "\n",
    "        #randomly enters a 1 for each pre booked appointments\n",
    "        while pre_booked>=0:\n",
    "            pre_booked -= 1\n",
    "            row_to_update = np.random.randint(self.num_slots, size=1)\n",
    "            col_to_update = np.random.randint(self.num_gps, size=1)\n",
    "            self.df.at[row_to_update[0],col_to_update[0]]=1\n",
    "            \n",
    "            self.done = False\n",
    "            self.cr = 0\n",
    "            self.state = self.generate_start_state()\n",
    "            self.reward = 0\n",
    "\n",
    "        return self.df\n",
    "            \n",
    "        \n",
    "        \n",
    "    '''begin work on implementing the step function, which will contain the code to \n",
    "    transition our environment from one state to the next given an action. '''\n",
    "    \n",
    "    \n",
    "        \n",
    "\n",
    "        \n",
    "        \n",
    "        \n",
    "            def render(self, mode = \"human\"):\n",
    "        assert mode in [\"human\", \"rgb_array\"], \"Invalid mode, must be either \\\"human\\\" or \\\"rgb_array\\\"\"\n",
    "        if mode == \"human\":\n",
    "            cv2.imshow(\"Game\", self.canvas)\n",
    "            cv2.waitKey(10)\n",
    "\n",
    "        elif mode == \"rgb_array\":\n",
    "            return self.canvas\n",
    "        \n",
    "    def render(self, mode='human', close=False):\n",
    "        # Render the environment to the screen\n",
    "        profit = self.net_worth - INITIAL_ACCOUNT_BALANCE\n",
    "        print(f'Step: {self.current_step}')\n",
    "        print(f'Balance: {self.balance}')\n",
    "        print(f'Shares held: {self.shares_held}\n",
    "              (Total sold: {self.total_shares_sold})')\n",
    "        print(f'Avg cost for held shares: {self.cost_basis}\n",
    "              (Total sales value: {self.total_sales_value})')\n",
    "        print(f'Net worth: {self.net_worth}\n",
    "              (Max net worth: {self.max_net_worth})')\n",
    "        print(f'Profit: {profit}')\n",
    "        \n",
    "        \n",
    "        \n",
    "        \n",
    "\n",
    "    def close(self):\n",
    "        cv2.destroyAllWindows()"
   ]
  },
  {
   "cell_type": "code",
   "execution_count": null,
   "metadata": {},
   "outputs": [],
   "source": [
    "'''Our observation_space contains all of the input variables we want our agent to consider before making, or not \n",
    "making a trade. In this example, we want our agent to “see” the stock data points (open price, high, low, close, \n",
    "and daily volume) for the last five days, as well a couple other data points like its account balance, current \n",
    "stock positions, and current profit.\n",
    "The intuition here is that for each time step, we want our agent to consider the price action leading up to the \n",
    "current price, as well as their own portfolio’s status in order to make an informed decision for the next action.'''"
   ]
  }
 ],
 "metadata": {
  "kernelspec": {
   "display_name": "Python 3",
   "language": "python",
   "name": "python3"
  },
  "language_info": {
   "codemirror_mode": {
    "name": "ipython",
    "version": 3
   },
   "file_extension": ".py",
   "mimetype": "text/x-python",
   "name": "python",
   "nbconvert_exporter": "python",
   "pygments_lexer": "ipython3",
   "version": "3.7.4"
  }
 },
 "nbformat": 4,
 "nbformat_minor": 2
}

{
 "cells": [
  {
   "cell_type": "code",
   "execution_count": null,
   "metadata": {},
   "outputs": [],
   "source": [
    "import gym\n",
    "import numpy as np\n",
    "import pandas as pd"
   ]
  },
  {
   "cell_type": "code",
   "execution_count": null,
   "metadata": {},
   "outputs": [],
   "source": [
    "#set parameters\n",
    "num_gps = 7\n",
    "num_slots = 12\n",
    "num_pre_booked = 12"
   ]
  },
  {
   "cell_type": "code",
   "execution_count": null,
   "metadata": {},
   "outputs": [],
   "source": [
    "class Scheduler(Env):\n",
    "    \n",
    "    metadata = {'render.modes': ['human']}\n",
    "    \n",
    "    def __init__(self, num_slots, num_gps, num_pre_booked):\n",
    "        \n",
    "        #set parameters\n",
    "        self.num_gps = num_gps\n",
    "        self.num_slots = num_slots\n",
    "        self.num_pre_booked = num_pre_booked\n",
    "\n",
    "        #set action space\n",
    "        self.action_space = gym.spaces.Discrete(2)\n",
    "\n",
    "        #set observation space\n",
    "        self.observation_space = gym.spaces.Box(low=0, high=1, shape=(num_slots, num_gps), dtype=np.int32)        \n",
    "\n",
    "        \n",
    "    #creates daily diary for each gp and randomly populates prebooked appointments\n",
    "    def reset(self):\n",
    "        \n",
    "        #creates zero filled dataframe with row per time slot and column per gp\n",
    "        self.df = pd.DataFrame(np.zeros((self.num_slots, self.num_gps)))\n",
    "\n",
    "        #randomly enters a 1 for each pre booked appointments\n",
    "        while pre_booked>=0:\n",
    "            pre_booked -= 1\n",
    "            row_to_update = np.random.randint(self.num_slots, size=1)\n",
    "            col_to_update = np.random.randint(self.num_gps, size=1)\n",
    "            self.df.at[row_to_update[0],col_to_update[0]]=1\n",
    "            \n",
    "            self.done = False\n",
    "            self.cr = 0\n",
    "            self.state = self.generate_start_state()\n",
    "            self.reward = 0\n",
    "\n",
    "        return self.df\n",
    "            \n",
    "        \n",
    "    \n",
    "    \n",
    "        \n"
   ]
  }
 ],
 "metadata": {
  "kernelspec": {
   "display_name": "Python 3",
   "language": "python",
   "name": "python3"
  },
  "language_info": {
   "codemirror_mode": {
    "name": "ipython",
    "version": 3
   },
   "file_extension": ".py",
   "mimetype": "text/x-python",
   "name": "python",
   "nbconvert_exporter": "python",
   "pygments_lexer": "ipython3",
   "version": "3.7.4"
  }
 },
 "nbformat": 4,
 "nbformat_minor": 2
}

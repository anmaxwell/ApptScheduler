{
 "cells": [
  {
   "cell_type": "code",
   "execution_count": null,
   "metadata": {},
   "outputs": [],
   "source": [
    "#standard imports\n",
    "import pandas as pd\n",
    "import numpy as np"
   ]
  },
  {
   "cell_type": "code",
   "execution_count": null,
   "metadata": {},
   "outputs": [],
   "source": [
    "#set parameters\n",
    "num_gps = 7\n",
    "num_slots = 12\n",
    "num_pre_booked = 12"
   ]
  },
  {
   "cell_type": "code",
   "execution_count": null,
   "metadata": {},
   "outputs": [],
   "source": [
    "#creates daily diary for each gp and randomly populates prebooked appointments\n",
    "def reset(self):\n",
    "\n",
    "    #creates zero filled dataframe with row per time slot and column per gp\n",
    "    self.state = np.zeros((self.num_slots, self.num_gps))\n",
    "\n",
    "    #randomly enters a 1 for each pre booked appointments\n",
    "    while pre_booked>=0:\n",
    "        pre_booked -= 1\n",
    "        row_to_update = np.random.randint(self.num_slots, size=1)\n",
    "        col_to_update = np.random.randint(self.num_gps, size=1)\n",
    "        self.state.at[row_to_update[0],col_to_update[0]]=1\n",
    "\n",
    "    #resets parameters for new episode\n",
    "    self.done = False\n",
    "    self.reward = 0\n",
    "    self.num_pre_booked = num_pre_booked\n",
    "\n",
    "    return self.state"
   ]
  },
  {
   "cell_type": "code",
   "execution_count": null,
   "metadata": {},
   "outputs": [],
   "source": [
    "#create diary and find out number of gps with no appointments at the start of the process\n",
    "diary = start_state(num_gps, num_slots, num_pre_booked)\n",
    "free_gps = diary.isin([0]).all().sum()"
   ]
  },
  {
   "cell_type": "code",
   "execution_count": null,
   "metadata": {},
   "outputs": [],
   "source": [
    "#print out the total number of gps for the day and how many with no appointments at the start of the process\n",
    "print(\"Number of GPs: \", num_gps)\n",
    "print(\"Number of GPs with no appointments: \", free_gps)"
   ]
  },
  {
   "cell_type": "code",
   "execution_count": null,
   "metadata": {},
   "outputs": [],
   "source": []
  }
 ],
 "metadata": {
  "kernelspec": {
   "display_name": "Python 3",
   "language": "python",
   "name": "python3"
  },
  "language_info": {
   "codemirror_mode": {
    "name": "ipython",
    "version": 3
   },
   "file_extension": ".py",
   "mimetype": "text/x-python",
   "name": "python",
   "nbconvert_exporter": "python",
   "pygments_lexer": "ipython3",
   "version": "3.7.4"
  }
 },
 "nbformat": 4,
 "nbformat_minor": 2
}

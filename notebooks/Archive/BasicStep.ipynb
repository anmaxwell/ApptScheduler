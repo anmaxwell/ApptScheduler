{
 "cells": [
  {
   "cell_type": "code",
   "execution_count": null,
   "metadata": {},
   "outputs": [],
   "source": [
    "def step(self, action):\n",
    "    \n",
    "    #get diary for gp to update\n",
    "    gp_to_update = self.state[action]\n",
    "    \n",
    "    #if the gp is full increase reward by -1\n",
    "    full_gp = gp_to_update.all()\n",
    "    if full_gp:\n",
    "        self.reward -=1\n",
    "    \n",
    "    #if the gp has no current appointments increase reward by -2\n",
    "    new_gp = gp_to_update.eq(0).all()\n",
    "    if new_gp:\n",
    "        self.reward -=2\n",
    "        \n",
    "    #fill the first available appointment for the gp\n",
    "    next_appt = gp_to_update.eq(0).idxmax()\n",
    "    self.state[action][next_appt] = 1\n",
    "    self.num_pre_booked -=1\n",
    "\n",
    "    self.done = self.num_pre_booked==0\n",
    "    info = {}\n",
    "    \n",
    "    return self.state, self.reward, self.done, info\n"
   ]
  },
  {
   "cell_type": "code",
   "execution_count": null,
   "metadata": {},
   "outputs": [],
   "source": [
    "def step(state, action):\n",
    "    \n",
    "    reward = 0\n",
    "    \n",
    "    gp_to_update = state[action]\n",
    "    \n",
    "    #if the gp is full increase reward by -1\n",
    "    full_gp = gp_to_update.all()\n",
    "    if full_gp:\n",
    "        reward -=1\n",
    "    \n",
    "    #if the gp has no current appointments increase reward by -2\n",
    "    new_gp = gp_to_update.eq(0).all()\n",
    "    if new_gp:\n",
    "        reward -=2\n",
    "        \n",
    "    #fill the first available appointment for the gp\n",
    "    next_appt = gp_to_update.eq(0).idxmax()\n",
    "    state[action][next_appt] = 1\n",
    "\n",
    "    return state, reward"
   ]
  },
  {
   "cell_type": "code",
   "execution_count": null,
   "metadata": {},
   "outputs": [],
   "source": []
  }
 ],
 "metadata": {
  "kernelspec": {
   "display_name": "Python 3",
   "language": "python",
   "name": "python3"
  },
  "language_info": {
   "codemirror_mode": {
    "name": "ipython",
    "version": 3
   },
   "file_extension": ".py",
   "mimetype": "text/x-python",
   "name": "python",
   "nbconvert_exporter": "python",
   "pygments_lexer": "ipython3",
   "version": "3.7.4"
  }
 },
 "nbformat": 4,
 "nbformat_minor": 2
}

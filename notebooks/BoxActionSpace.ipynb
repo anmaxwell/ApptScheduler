{
 "cells": [
  {
   "cell_type": "code",
   "execution_count": 5,
   "metadata": {},
   "outputs": [],
   "source": [
    "import gym\n",
    "import ptan\n",
    "import argparse\n",
    "import numpy as np\n",
    "import pandas as pd\n",
    "\n",
    "import torch\n",
    "import torch.nn as nn\n",
    "import torch.nn.functional as F\n",
    "import torch.optim as optim"
   ]
  },
  {
   "cell_type": "code",
   "execution_count": 6,
   "metadata": {},
   "outputs": [],
   "source": [
    "#set parameters\n",
    "num_gps = 3\n",
    "num_slots = 4\n",
    "num_pre_booked = 3\n",
    "to_book = torch.tensor([1,2,3,1])\n",
    "num_to_book = len(to_book)\n",
    "\n",
    "GAMMA = 0.99\n",
    "LEARNING_RATE = 0.001\n",
    "ENTROPY_BETA = 0.01\n",
    "BATCH_SIZE = 128\n",
    "NUM_ENVS = 50\n",
    "\n",
    "REWARD_STEPS = 4\n",
    "CLIP_GRAD = 0.1\n",
    "device = torch.device(\"cpu\")"
   ]
  },
  {
   "cell_type": "code",
   "execution_count": 7,
   "metadata": {},
   "outputs": [],
   "source": [
    "#convert numpy array to tensor for input\n",
    "def tensor_convert(x):\n",
    "    return torch.from_numpy(x).float()"
   ]
  },
  {
   "cell_type": "code",
   "execution_count": 8,
   "metadata": {},
   "outputs": [],
   "source": [
    "class Model(nn.Module):\n",
    "    def __init__(self, input_size, diary_shape):\n",
    "        super(Model, self).__init__()\n",
    "\n",
    "        self.net = nn.Sequential(\n",
    "            nn.Linear(input_size, 64),\n",
    "            nn.ReLU(),\n",
    "            nn.Linear(64, 128) \n",
    "        )\n",
    "\n",
    "        self.actor = nn.Sequential(\n",
    "            nn.Linear(128, 512),\n",
    "            nn.ReLU(),\n",
    "            nn.Linear(512, diary_shape),\n",
    "            nn.Tanh()  \n",
    "        )\n",
    "\n",
    "        self.critic = nn.Sequential(\n",
    "            nn.Linear(128, 512),\n",
    "            nn.ReLU(),\n",
    "            nn.Linear(512, 1)\n",
    "        )\n",
    "\n",
    "    def forward(self, x):\n",
    "        init_out = self.net(x)\n",
    "        return self.actor(init_out), self.critic(init_out)"
   ]
  },
  {
   "cell_type": "code",
   "execution_count": 9,
   "metadata": {},
   "outputs": [],
   "source": [
    "class SchedulerEnv(gym.Env):\n",
    "    \n",
    "    metadata = {'render.modes': ['human']}\n",
    "    \n",
    "    def __init__(self):\n",
    "        \n",
    "        #set parameters for the day\n",
    "        self.num_gps = num_gps\n",
    "        self.num_slots = num_slots\n",
    "        self.num_pre_booked = num_pre_booked\n",
    "        self.to_book = to_book\n",
    "        self.num_to_book = num_to_book\n",
    "        self.diary_slots = num_gps*num_slots\n",
    "\n",
    "        #set action space this format of the diary\n",
    "        self.action_space = gym.spaces.Box(low=0, high=1, shape=(self.num_slots, self.num_gps), dtype=np.int32)\n",
    "        \n",
    "        #set observation space \n",
    "        self.observation_space = gym.spaces.Box(low=0, high=1, shape=(self.num_slots, self.num_gps), dtype=np.int32)\n",
    "   \n",
    "    #creates daily diary for each gp and randomly populates prebooked appointments\n",
    "    def reset(self):\n",
    "\n",
    "        #creates zero filled dataframe with row per time slot and column per gp\n",
    "        self.state = np.zeros((self.num_slots, self.num_gps),dtype=float)\n",
    "\n",
    "        #randomly enters a 1 for each pre booked appointments\n",
    "        while self.num_pre_booked>0:\n",
    "            self.num_pre_booked -= 1\n",
    "            row_to_update = np.random.randint(self.num_slots, size=1)\n",
    "            col_to_update = np.random.randint(self.num_gps, size=1)\n",
    "            #self.state.at[row_to_update[0],col_to_update[0]]=1\n",
    "            self.state[row_to_update,col_to_update]=1\n",
    "\n",
    "        #resets parameters for new episode\n",
    "        self.done = False\n",
    "        self.reward = 0\n",
    "        self.num_to_book = num_to_book\n",
    "        self.num_pre_booked = num_pre_booked\n",
    "\n",
    "        return self.state\n",
    "\n",
    "    def step(self, action):\n",
    "    \n",
    "        tot_appts = self.num_pre_booked + self.num_to_book\n",
    "        #print('total appts to book = ', tot_appts)\n",
    "        final_diary = action\n",
    "        #print('final appts in diary = ', action.sum())\n",
    "        \n",
    "        #rewards if keeps original appointments in same place\n",
    "        pre_booked_position = np.transpose(np.nonzero(self.state))\n",
    "        for i in (pre_booked_position):\n",
    "            if action[i[0],i[1]]:\n",
    "                self.reward +=1\n",
    "                #print('plus 1 matching')\n",
    "            else:\n",
    "                self.reward -=1\n",
    "                #print('minus 1 appt lost')\n",
    "\n",
    "        #rewards if all new appts are booked\n",
    "        if tot_appts == action.sum():\n",
    "            self.reward +=5\n",
    "            #print('plus 1 all booked')\n",
    "        else:\n",
    "            self.reward -=5\n",
    "            #print('not all booked')\n",
    "        \n",
    "        #rewards if all longer appts are booked together\n",
    "\n",
    "        self.done = True\n",
    "        info = {}\n",
    "\n",
    "        return action, self.reward, self.done, info\n",
    "        "
   ]
  },
  {
   "cell_type": "code",
   "execution_count": null,
   "metadata": {},
   "outputs": [],
   "source": []
  },
  {
   "cell_type": "code",
   "execution_count": 10,
   "metadata": {},
   "outputs": [],
   "source": [
    "def train(state, action, rewards, critic, max_rewards, optimizer):\n",
    "    \n",
    "    advantage = rewards - max_rewards\n",
    "        \n",
    "    log_prob_v = F.log_softmax(action, dim=1) \n",
    "\n",
    "    actor_loss = (-log_prob_v) * advantage\n",
    "    adam_actor.zero_grad()\n",
    "    actor_loss.backward()\n",
    "    adam_actor.step()\n",
    "\n",
    "    critic_loss = advantage.pow(2)\n",
    "    adam_critic.zero_grad()\n",
    "    critic_loss.backward()\n",
    "    grad = []\n",
    "    #for param in critic.parameters():\n",
    "    #    grad.append(param.grad.view(-1))\n",
    "    adam_critic.step()\n",
    "\n",
    "\n",
    "\n",
    "    return obs_v"
   ]
  },
  {
   "cell_type": "markdown",
   "metadata": {},
   "source": [
    "    optimizer.zero_grad()\n",
    "    mb_adv = mb_rewards - mb_values\n",
    "    adv_v = torch.FloatTensor(mb_adv).to(device)\n",
    "    obs_v = torch.FloatTensor(mb_obs).to(device)\n",
    "    rewards_v = torch.FloatTensor(mb_rewards).to(device)\n",
    "    actions_t = torch.LongTensor(mb_actions).to(device)\n",
    "    logits_v, values_v = net(obs_v)\n",
    "    loss_value_v = F.mse_loss(values_v.squeeze(-1), rewards_v)\n",
    "\n",
    "    log_prob_v = F.log_softmax(logits_v, dim=1)\n",
    "    log_prob_actions_v = adv_v * log_prob_v[range(len(mb_actions)), actions_t]\n",
    "    loss_policy_v = -log_prob_actions_v.mean()\n",
    "\n",
    "    prob_v = F.softmax(logits_v, dim=1)\n",
    "    entropy_loss_v = (prob_v * log_prob_v).sum(dim=1).mean()\n",
    "    loss_v = ENTROPY_BETA * entropy_loss_v + loss_value_v + loss_policy_v\n",
    "    loss_v.backward()\n",
    "    nn_utils.clip_grad_norm_(net.parameters(), CLIP_GRAD)\n",
    "    optimizer.step()"
   ]
  },
  {
   "cell_type": "code",
   "execution_count": 11,
   "metadata": {},
   "outputs": [],
   "source": [
    "# run a number of episodes to gather values and rewards"
   ]
  },
  {
   "cell_type": "code",
   "execution_count": 12,
   "metadata": {},
   "outputs": [
    {
     "ename": "IndexError",
     "evalue": "Dimension out of range (expected to be in range of [-1, 0], but got 1)",
     "output_type": "error",
     "traceback": [
      "\u001b[0;31m---------------------------------------------------------------------------\u001b[0m",
      "\u001b[0;31mIndexError\u001b[0m                                Traceback (most recent call last)",
      "\u001b[0;32m<ipython-input-12-0e87a50d44f9>\u001b[0m in \u001b[0;36m<module>\u001b[0;34m\u001b[0m\n\u001b[1;32m     21\u001b[0m     \u001b[0mmax_rewards\u001b[0m \u001b[0;34m=\u001b[0m \u001b[0mnum_pre_booked\u001b[0m \u001b[0;34m+\u001b[0m \u001b[0;36m5\u001b[0m\u001b[0;34m\u001b[0m\u001b[0;34m\u001b[0m\u001b[0m\n\u001b[1;32m     22\u001b[0m \u001b[0;34m\u001b[0m\u001b[0m\n\u001b[0;32m---> 23\u001b[0;31m     \u001b[0mtrain\u001b[0m\u001b[0;34m(\u001b[0m\u001b[0mstate\u001b[0m\u001b[0;34m,\u001b[0m \u001b[0maction\u001b[0m\u001b[0;34m,\u001b[0m \u001b[0mrewards\u001b[0m\u001b[0;34m,\u001b[0m \u001b[0mcritic\u001b[0m\u001b[0;34m,\u001b[0m \u001b[0mmax_rewards\u001b[0m\u001b[0;34m,\u001b[0m \u001b[0moptimizer\u001b[0m\u001b[0;34m)\u001b[0m\u001b[0;34m\u001b[0m\u001b[0;34m\u001b[0m\u001b[0m\n\u001b[0m",
      "\u001b[0;32m<ipython-input-10-467c9250626f>\u001b[0m in \u001b[0;36mtrain\u001b[0;34m(state, action, rewards, critic, max_rewards, optimizer)\u001b[0m\n\u001b[1;32m      3\u001b[0m     \u001b[0madvantage\u001b[0m \u001b[0;34m=\u001b[0m \u001b[0mrewards\u001b[0m \u001b[0;34m-\u001b[0m \u001b[0mmax_rewards\u001b[0m\u001b[0;34m\u001b[0m\u001b[0;34m\u001b[0m\u001b[0m\n\u001b[1;32m      4\u001b[0m \u001b[0;34m\u001b[0m\u001b[0m\n\u001b[0;32m----> 5\u001b[0;31m     \u001b[0mlog_prob_v\u001b[0m \u001b[0;34m=\u001b[0m \u001b[0mF\u001b[0m\u001b[0;34m.\u001b[0m\u001b[0mlog_softmax\u001b[0m\u001b[0;34m(\u001b[0m\u001b[0maction\u001b[0m\u001b[0;34m,\u001b[0m \u001b[0mdim\u001b[0m\u001b[0;34m=\u001b[0m\u001b[0;36m1\u001b[0m\u001b[0;34m)\u001b[0m\u001b[0;34m\u001b[0m\u001b[0;34m\u001b[0m\u001b[0m\n\u001b[0m\u001b[1;32m      6\u001b[0m \u001b[0;34m\u001b[0m\u001b[0m\n\u001b[1;32m      7\u001b[0m     \u001b[0mactor_loss\u001b[0m \u001b[0;34m=\u001b[0m \u001b[0;34m(\u001b[0m\u001b[0;34m-\u001b[0m\u001b[0mlog_prob_v\u001b[0m\u001b[0;34m)\u001b[0m \u001b[0;34m*\u001b[0m \u001b[0madvantage\u001b[0m\u001b[0;34m\u001b[0m\u001b[0;34m\u001b[0m\u001b[0m\n",
      "\u001b[0;32m/Library/Frameworks/Python.framework/Versions/3.7/lib/python3.7/site-packages/torch/nn/functional.py\u001b[0m in \u001b[0;36mlog_softmax\u001b[0;34m(input, dim, _stacklevel, dtype)\u001b[0m\n\u001b[1;32m   1603\u001b[0m         \u001b[0mdim\u001b[0m \u001b[0;34m=\u001b[0m \u001b[0m_get_softmax_dim\u001b[0m\u001b[0;34m(\u001b[0m\u001b[0;34m'log_softmax'\u001b[0m\u001b[0;34m,\u001b[0m \u001b[0minput\u001b[0m\u001b[0;34m.\u001b[0m\u001b[0mdim\u001b[0m\u001b[0;34m(\u001b[0m\u001b[0;34m)\u001b[0m\u001b[0;34m,\u001b[0m \u001b[0m_stacklevel\u001b[0m\u001b[0;34m)\u001b[0m\u001b[0;34m\u001b[0m\u001b[0;34m\u001b[0m\u001b[0m\n\u001b[1;32m   1604\u001b[0m     \u001b[0;32mif\u001b[0m \u001b[0mdtype\u001b[0m \u001b[0;32mis\u001b[0m \u001b[0;32mNone\u001b[0m\u001b[0;34m:\u001b[0m\u001b[0;34m\u001b[0m\u001b[0;34m\u001b[0m\u001b[0m\n\u001b[0;32m-> 1605\u001b[0;31m         \u001b[0mret\u001b[0m \u001b[0;34m=\u001b[0m \u001b[0minput\u001b[0m\u001b[0;34m.\u001b[0m\u001b[0mlog_softmax\u001b[0m\u001b[0;34m(\u001b[0m\u001b[0mdim\u001b[0m\u001b[0;34m)\u001b[0m\u001b[0;34m\u001b[0m\u001b[0;34m\u001b[0m\u001b[0m\n\u001b[0m\u001b[1;32m   1606\u001b[0m     \u001b[0;32melse\u001b[0m\u001b[0;34m:\u001b[0m\u001b[0;34m\u001b[0m\u001b[0;34m\u001b[0m\u001b[0m\n\u001b[1;32m   1607\u001b[0m         \u001b[0mret\u001b[0m \u001b[0;34m=\u001b[0m \u001b[0minput\u001b[0m\u001b[0;34m.\u001b[0m\u001b[0mlog_softmax\u001b[0m\u001b[0;34m(\u001b[0m\u001b[0mdim\u001b[0m\u001b[0;34m,\u001b[0m \u001b[0mdtype\u001b[0m\u001b[0;34m=\u001b[0m\u001b[0mdtype\u001b[0m\u001b[0;34m)\u001b[0m\u001b[0;34m\u001b[0m\u001b[0;34m\u001b[0m\u001b[0m\n",
      "\u001b[0;31mIndexError\u001b[0m: Dimension out of range (expected to be in range of [-1, 0], but got 1)"
     ]
    }
   ],
   "source": [
    "env = SchedulerEnv()\n",
    "model = Model((env.diary_slots+env.num_to_book), env.diary_slots)\n",
    "optimizer = torch.optim.Adam(model.parameters(), lr=0.001, betas=(0.9, 0.999), eps=1e-08, weight_decay=0, \n",
    "                             amsgrad=False)\n",
    "\n",
    "for j in range(5):\n",
    "\n",
    "    state = env.reset()\n",
    "\n",
    "    flat_state = torch.flatten(tensor_convert(state))\n",
    "    nn_input = torch.cat((flat_state, env.to_book))\n",
    "    action, critic = model(nn_input)\n",
    "\n",
    "    #convert output to match action space\n",
    "    end_diary = action.reshape(env.observation_space.shape)\n",
    "    end_diary[end_diary>0] = 1 \n",
    "    end_diary[end_diary<0] = 0 \n",
    "    _, rewards, done, _ = env.step(end_diary)\n",
    "\n",
    "    #calc max rewards\n",
    "    max_rewards = num_pre_booked + 5\n",
    "\n",
    "    train(state, action, rewards, critic, max_rewards, optimizer)"
   ]
  },
  {
   "cell_type": "code",
   "execution_count": null,
   "metadata": {},
   "outputs": [],
   "source": []
  },
  {
   "cell_type": "code",
   "execution_count": null,
   "metadata": {},
   "outputs": [],
   "source": []
  },
  {
   "cell_type": "code",
   "execution_count": null,
   "metadata": {},
   "outputs": [],
   "source": []
  },
  {
   "cell_type": "code",
   "execution_count": null,
   "metadata": {},
   "outputs": [],
   "source": []
  },
  {
   "cell_type": "code",
   "execution_count": null,
   "metadata": {},
   "outputs": [],
   "source": []
  },
  {
   "cell_type": "code",
   "execution_count": null,
   "metadata": {},
   "outputs": [],
   "source": []
  },
  {
   "cell_type": "code",
   "execution_count": null,
   "metadata": {},
   "outputs": [],
   "source": [
    "optimizer = optim.Adam(net.parameters(), lr=LEARNING_RATE, eps=1e-3)"
   ]
  },
  {
   "cell_type": "code",
   "execution_count": null,
   "metadata": {},
   "outputs": [],
   "source": [
    "# train function\n",
    "def train(memory, q_val):\n",
    "    values = torch.stack(memory.values)\n",
    "    q_vals = np.zeros((len(memory), 1))\n",
    "    \n",
    "    # target values are calculated backward\n",
    "    # it's super important to handle correctly done states,\n",
    "    # for those cases we want our to target to be equal to the reward only\n",
    "    for i, (_, _, reward, done) in enumerate(memory.reversed()):\n",
    "        q_val = reward + gamma*q_val*(1.0-done)\n",
    "        q_vals[len(memory)-1 - i] = q_val # store values from the end to the beginning\n",
    "        \n",
    "    advantage = torch.Tensor(q_vals) - values\n",
    "    \n",
    "    critic_loss = advantage.pow(2).mean()\n",
    "    adam_critic.zero_grad()\n",
    "    critic_loss.backward()\n",
    "    adam_critic.step()\n",
    "    \n",
    "    actor_loss = (-torch.stack(memory.log_probs)*advantage.detach()).mean()\n",
    "    adam_actor.zero_grad()\n",
    "    actor_loss.backward()\n",
    "    adam_actor.step()\n"
   ]
  },
  {
   "cell_type": "code",
   "execution_count": null,
   "metadata": {},
   "outputs": [],
   "source": []
  }
 ],
 "metadata": {
  "kernelspec": {
   "display_name": "Python 3",
   "language": "python",
   "name": "python3"
  },
  "language_info": {
   "codemirror_mode": {
    "name": "ipython",
    "version": 3
   },
   "file_extension": ".py",
   "mimetype": "text/x-python",
   "name": "python",
   "nbconvert_exporter": "python",
   "pygments_lexer": "ipython3",
   "version": "3.7.4"
  }
 },
 "nbformat": 4,
 "nbformat_minor": 2
}

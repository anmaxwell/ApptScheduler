{
 "cells": [
  {
   "cell_type": "code",
   "execution_count": 42,
   "metadata": {},
   "outputs": [],
   "source": [
    "import gym\n",
    "import numpy as np\n",
    "import pandas as pd\n",
    "\n",
    "import torch\n",
    "import torch.nn as nn\n",
    "import torch.nn.functional as F\n",
    "import torch.optim as optim\n",
    "\n",
    "from tensorboardX import SummaryWriter"
   ]
  },
  {
   "cell_type": "code",
   "execution_count": 43,
   "metadata": {},
   "outputs": [],
   "source": [
    "#set parameters\n",
    "num_gps = 10\n",
    "num_slots = 15\n",
    "num_pre_booked = 17\n",
    "to_book = torch.tensor([2,1,4,2,3,1])\n",
    "num_to_book = len(to_book)\n",
    "entropy_beta = 0.01\n",
    "agent_pos = [0,0]"
   ]
  },
  {
   "cell_type": "code",
   "execution_count": 44,
   "metadata": {},
   "outputs": [],
   "source": [
    "class SchedulerEnv(gym.Env):\n",
    "\n",
    "    def __init__(self):\n",
    "        \n",
    "        #set parameters for the day\n",
    "        self.num_gps = num_gps\n",
    "        self.num_slots = num_slots\n",
    "        self.num_pre_booked = num_pre_booked\n",
    "        self.to_book = to_book\n",
    "        self.num_to_book = num_to_book\n",
    "        self.diary_slots = num_gps*num_slots\n",
    "        self.agent_pos = agent_pos\n",
    "\n",
    "        #set action space this format of the diary\n",
    "        self.action_space = gym.spaces.Box(low=0, high=1, shape=(self.num_slots, self.num_gps), dtype=np.int32)\n",
    "        \n",
    "        #set observation space \n",
    "        self.observation_space = gym.spaces.Box(low=0, high=1, shape=(self.num_slots, self.num_gps), dtype=np.int32)\n",
    "   \n",
    "    #creates daily diary for each gp and randomly populates prebooked appointments\n",
    "    def reset(self):\n",
    "\n",
    "        #creates zero filled dataframe with row per time slot and column per gp\n",
    "        self.state = np.zeros((self.num_slots, self.num_gps),dtype=float)\n",
    "\n",
    "        #randomly enters a 1 for each pre booked appointments\n",
    "        while self.num_pre_booked>0:\n",
    "            self.num_pre_booked -= 1\n",
    "            self.state[np.random.randint(num_slots), np.random.randint(num_gps)] = 1\n",
    "            \n",
    "        #randomly sets the agent start space\n",
    "        self.agent_pos = [np.random.randint(num_slots), np.random.randint(num_gps)]\n",
    "\n",
    "        #resets parameters for new episode\n",
    "        self.done = False\n",
    "        self.reward = 0\n",
    "        self.num_to_book = num_to_book\n",
    "        self.num_pre_booked = num_pre_booked\n",
    "\n",
    "        return self.state\n",
    "\n",
    "    def step(self, action):\n",
    "    \n",
    "        tot_appts = self.num_pre_booked + self.num_to_book\n",
    "        #print('total appts to book = ', tot_appts)\n",
    "        final_diary = action\n",
    "        #print('final appts in diary = ', action.sum())\n",
    "        \n",
    "        #rewards if keeps original appointments in same place\n",
    "        pre_booked_position = np.transpose(np.nonzero(self.state))\n",
    "        for i in (pre_booked_position):\n",
    "            if action[i[0],i[1]]:\n",
    "                self.reward +=1\n",
    "                #print('plus 1 matching')\n",
    "            else:\n",
    "                self.reward -=1\n",
    "                #print('minus 1 appt lost')\n",
    "\n",
    "        #rewards if all new appts are booked\n",
    "        if tot_appts == action.sum():\n",
    "            self.reward +=5\n",
    "            #print('plus 1 all booked')\n",
    "        else:\n",
    "            self.reward -=5\n",
    "            #print('not all booked')\n",
    "            \n",
    "        #print('tot reward', self.reward)\n",
    "        \n",
    "        #rewards if all longer appts are booked together\n",
    "\n",
    "        self.done = True\n",
    "        info = {}\n",
    "\n",
    "        return action, self.reward, self.done, info"
   ]
  },
  {
   "cell_type": "code",
   "execution_count": 45,
   "metadata": {},
   "outputs": [
    {
     "name": "stdout",
     "output_type": "stream",
     "text": [
      "[[0. 0. 0. 1. 0. 0. 0. 0. 0. 0.]\n",
      " [0. 0. 0. 0. 0. 0. 0. 0. 0. 0.]\n",
      " [0. 0. 0. 0. 0. 0. 0. 0. 0. 0.]\n",
      " [0. 0. 0. 0. 0. 0. 0. 0. 0. 0.]\n",
      " [1. 0. 0. 0. 0. 0. 0. 0. 0. 0.]\n",
      " [0. 1. 0. 0. 0. 0. 0. 0. 0. 0.]\n",
      " [1. 0. 1. 1. 0. 0. 0. 0. 0. 0.]\n",
      " [0. 0. 0. 0. 0. 0. 0. 1. 1. 0.]\n",
      " [0. 0. 0. 0. 0. 0. 0. 0. 0. 0.]\n",
      " [0. 0. 0. 0. 0. 0. 0. 0. 1. 0.]\n",
      " [0. 1. 0. 1. 0. 0. 0. 0. 0. 0.]\n",
      " [0. 0. 0. 0. 0. 0. 0. 1. 0. 1.]\n",
      " [0. 0. 1. 0. 0. 1. 1. 0. 0. 0.]\n",
      " [0. 0. 0. 0. 0. 0. 0. 0. 1. 0.]\n",
      " [0. 0. 0. 0. 0. 0. 0. 0. 0. 0.]] [3, 9]\n"
     ]
    }
   ],
   "source": [
    "#initialise environment, model and optimiser\n",
    "env = SchedulerEnv()\n",
    "#model = Model((env.diary_slots+env.num_to_book), env.diary_slots)\n",
    "\n",
    "#optimizer = torch.optim.Adam(model.parameters(), lr=0.001, betas=(0.9, 0.999), eps=1e-08, weight_decay=0, \n",
    "#                             amsgrad=False)\n",
    "#optimizer.zero_grad()\n",
    "writer = SummaryWriter()\n",
    "\n",
    "start_state = env.reset()\n",
    "print(start_state, env.agent_pos)\n"
   ]
  },
  {
   "cell_type": "code",
   "execution_count": 46,
   "metadata": {},
   "outputs": [],
   "source": [
    "#this needs to be copied into the Env and called by step\n",
    "def move_agent(action, agent_pos):\n",
    "\n",
    "    #set boundaries for the grid\n",
    "    max_row = num_slots - 1\n",
    "    max_col = num_gps - 1\n",
    "\n",
    "    #set new co-ordinates for the agent\n",
    "    new_row = agent_pos[0]\n",
    "    new_col = agent_pos[1]\n",
    "\n",
    "    #calculate what the new position may be\n",
    "    if action == 0:\n",
    "        print('up')\n",
    "        new_row = max(agent_pos[0] - 1, 0)\n",
    "    if action == 1:\n",
    "        print('down')\n",
    "        new_row = min(agent_pos[0] + 1, max_row)\n",
    "    if action == 2:\n",
    "        print('left')\n",
    "        new_col = max(agent_pos[1] - 1, 0)\n",
    "    if action == 3:\n",
    "        print('right')\n",
    "        new_col = min(agent_pos[1] + 1, max_col)\n",
    "\n",
    "    new_pos = [new_row, new_col]\n",
    "\n",
    "    return new_pos"
   ]
  },
  {
   "cell_type": "code",
   "execution_count": 47,
   "metadata": {},
   "outputs": [
    {
     "name": "stdout",
     "output_type": "stream",
     "text": [
      "2 [3, 9]\n"
     ]
    }
   ],
   "source": [
    "action = np.random.randint(4)\n",
    "print(action, env.agent_pos)"
   ]
  },
  {
   "cell_type": "code",
   "execution_count": 48,
   "metadata": {},
   "outputs": [
    {
     "name": "stdout",
     "output_type": "stream",
     "text": [
      "left\n"
     ]
    },
    {
     "data": {
      "text/plain": [
       "[3, 8]"
      ]
     },
     "execution_count": 48,
     "metadata": {},
     "output_type": "execute_result"
    }
   ],
   "source": [
    "agent_pos = move_agent(action, env.agent_pos)\n",
    "agent_pos"
   ]
  },
  {
   "cell_type": "code",
   "execution_count": 49,
   "metadata": {},
   "outputs": [],
   "source": [
    "#this needs to be copied into the Env and called by step\n",
    "def check_bookable(agent_pos):\n",
    "    return start_state[agent_pos[0], agent_pos[1]] == 0.0"
   ]
  },
  {
   "cell_type": "code",
   "execution_count": 50,
   "metadata": {},
   "outputs": [
    {
     "data": {
      "text/plain": [
       "True"
      ]
     },
     "execution_count": 50,
     "metadata": {},
     "output_type": "execute_result"
    }
   ],
   "source": [
    "check_bookable(env.agent_pos)"
   ]
  },
  {
   "cell_type": "code",
   "execution_count": 51,
   "metadata": {},
   "outputs": [
    {
     "data": {
      "text/plain": [
       "True"
      ]
     },
     "execution_count": 51,
     "metadata": {},
     "output_type": "execute_result"
    }
   ],
   "source": [
    "check_bookable(agent_pos)"
   ]
  },
  {
   "cell_type": "code",
   "execution_count": null,
   "metadata": {},
   "outputs": [],
   "source": []
  }
 ],
 "metadata": {
  "kernelspec": {
   "display_name": "Python 3",
   "language": "python",
   "name": "python3"
  },
  "language_info": {
   "codemirror_mode": {
    "name": "ipython",
    "version": 3
   },
   "file_extension": ".py",
   "mimetype": "text/x-python",
   "name": "python",
   "nbconvert_exporter": "python",
   "pygments_lexer": "ipython3",
   "version": "3.7.4"
  }
 },
 "nbformat": 4,
 "nbformat_minor": 2
}
